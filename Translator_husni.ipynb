{
 "cells": [
  {
   "cell_type": "code",
   "execution_count": 1,
   "metadata": {},
   "outputs": [],
   "source": [
    "import requests"
   ]
  },
  {
   "cell_type": "code",
   "execution_count": 2,
   "metadata": {},
   "outputs": [],
   "source": [
    "def azure_translate(text):\n",
    "    API_KEY = 'YOUR_KEY'\n",
    "    API_REGION = 'YOUR_REGION'\n",
    "    \n",
    "    endpoint = 'https://api.cognitive.microsofttranslator.com/'\n",
    "    headers = {'Ocp-Apim-Subscription-Key': API_KEY,\n",
    "               'Content-type': 'application/json', \n",
    "               'Ocp-Apim-Subscription-Region': API_REGION}\n",
    "    params = {'api-version': '3.0', 'from': 'en', 'to': 'sv'}\n",
    "    api_url = endpoint + 'translate'\n",
    "    body = [{'text': text}]\n",
    "    response = requests.post(api_url, params=params, headers=headers, json=body)\n",
    "    return response.json()"
   ]
  },
  {
   "cell_type": "code",
   "execution_count": 3,
   "metadata": {},
   "outputs": [
    {
     "data": {
      "application/vnd.jupyter.widget-view+json": {
       "model_id": "9182c9f962514e47b36fd4bb7b413d64",
       "version_major": 2,
       "version_minor": 0
      },
      "text/plain": [
       "VBox(children=(HTML(value='<h2><i>SIMPLE</i> <b>Translator</b></h2>'), Textarea(value='', layout=Layout(width=…"
      ]
     },
     "metadata": {},
     "output_type": "display_data"
    }
   ],
   "source": [
    "import ipywidgets as widgets\n",
    "\n",
    "def on_button_clicked(b):\n",
    "    response = azure_translate(w_text.value)\n",
    "    w_output.clear_output()\n",
    "    with w_output:\n",
    "        print(response[0]['translations'][0]['text'])\n",
    "\n",
    "w_header = widgets.HTML('<h2><i>SIMPLE</i> <b>Translator</b></h2>')\n",
    "w_text = widgets.Textarea(placeholder='Write something in English!', layout=widgets.Layout(width = '100%'))\n",
    "w_button = widgets.Button(description='Translate to SV')\n",
    "w_button.on_click(on_button_clicked)\n",
    "w_output = widgets.Output()\n",
    "w_ui = widgets.VBox([w_header, w_text, w_button, w_output], layout=widgets.Layout(align_items='center'))\n",
    "display(w_ui)"
   ]
  },
  {
   "cell_type": "code",
   "execution_count": null,
   "metadata": {},
   "outputs": [],
   "source": []
  }
 ],
 "metadata": {
  "kernelspec": {
   "display_name": "Python 3",
   "language": "python",
   "name": "python3"
  },
  "language_info": {
   "codemirror_mode": {
    "name": "ipython",
    "version": 3
   },
   "file_extension": ".py",
   "mimetype": "text/x-python",
   "name": "python",
   "nbconvert_exporter": "python",
   "pygments_lexer": "ipython3",
   "version": "3.8.5"
  }
 },
 "nbformat": 4,
 "nbformat_minor": 4
}
